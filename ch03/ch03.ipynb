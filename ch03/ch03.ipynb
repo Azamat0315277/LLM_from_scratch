{
 "cells": [
  {
   "cell_type": "markdown",
   "id": "ba8b80a5",
   "metadata": {},
   "source": [
    "# 3. GPT моделін іске асыру\n",
    "# 3. Реализация GPT модели "
   ]
  },
  {
   "cell_type": "code",
   "execution_count": 3,
   "id": "094a43e8",
   "metadata": {},
   "outputs": [
    {
     "name": "stdout",
     "output_type": "stream",
     "text": [
      "matplotlib version: 3.10.0\n",
      "torch version: 2.5.1\n",
      "tiktoken version: 0.8.0\n"
     ]
    }
   ],
   "source": [
    "from importlib.metadata import version\n",
    "\n",
    "print(\"matplotlib version:\", version(\"matplotlib\"))\n",
    "print(\"torch version:\", version(\"torch\"))\n",
    "print(\"tiktoken version:\", version(\"tiktoken\"))"
   ]
  },
  {
   "cell_type": "markdown",
   "id": "9c4e178b",
   "metadata": {},
   "source": [
    "- Бұл тарауда біз GPT-ге ұқсас LLM  құрамыз; келесі тарау осы LLM-ді оқытуға арналады.\n",
    "***\n",
    "- В этой главе мы реализуем архитектуру LLM, подобную GPT; следующая глава будет посвящена обучению этой LLM."
   ]
  },
  {
   "cell_type": "markdown",
   "id": "c7f63a8d",
   "metadata": {},
   "source": [
    "<img src=\"https://sebastianraschka.com/images/LLMs-from-scratch-images/ch04_compressed/01.webp\" width=\"1000px\">"
   ]
  },
  {
   "cell_type": "markdown",
   "id": "baf56e08",
   "metadata": {},
   "source": [
    "## 3.1  LLM моделінің негізін құрастыру\n",
    "## 3.1  Создание ядро LLM"
   ]
  },
  {
   "cell_type": "markdown",
   "id": "0eca7a29",
   "metadata": {},
   "source": [
    "<img src=\"https://sebastianraschka.com/images/LLMs-from-scratch-images/ch04_compressed/02.webp\" width=\"1000px\">"
   ]
  },
  {
   "cell_type": "markdown",
   "id": "9c889250",
   "metadata": {},
   "source": [
    "* Алдыңғы тарауларда біз көрнекілікті жеңілдету және бір бетке сыйғызу үшін токеннің кіріс пен шығыс деректеріне арналған шағын ендірме өлшемдерін қолдандық.\n",
    "* Бұл тарауда біз шағын GPT-2 моделіне ұқсас ендірме (embedding) және модель өлшемдерін қарастырамыз.\n",
    "* 5-тарауда біз модельды алдын ала оқытылған салмақтармен  қалай жүктеу болатыны көрсетіледі, ол 345, 762 және 1542 миллион параметрлік модель өлшемдерімен үйлесімді болады.\n",
    "***\n",
    "\n",
    "* В предыдущих главах мы использовали небольшие размерности встраивания (эмбеддингов) для входных и выходных токенов для наглядности, чтобы они помещались на одной странице.\n",
    "* В этой главе мы рассмотрим размеры встраивания и модели, аналогичные небольшой модели GPT-2.\n",
    "* В Главе 6 будет показано, как загружать предварительно обученные веса в нашу реализацию, которая будет совместима с моделями размером в 345, 762 и 1542 миллиона параметров."
   ]
  },
  {
   "cell_type": "markdown",
   "id": "cac716e8",
   "metadata": {},
   "source": [
    "- Төменде 124 миллион параметрлі GPT-2 моделінің конфигурация мәліметтері:\n",
    "***\n",
    "- Ниже Детали конфигурации для модели GPT-2 со 124 миллионами параметров:"
   ]
  },
  {
   "cell_type": "code",
   "execution_count": 4,
   "id": "e9574bf2",
   "metadata": {},
   "outputs": [],
   "source": [
    "GPT_CONFIG_124M = {\n",
    "    \"vocab_size\": 50257,    # Vocabulary size\n",
    "    \"context_length\": 1024, # Context length\n",
    "    \"emb_dim\": 768,         # Embedding dimension\n",
    "    \"n_heads\": 12,          # Number of attention heads\n",
    "    \"n_layers\": 12,         # Number of layers\n",
    "    \"drop_rate\": 0.1,       # Dropout rate\n",
    "    \"qkv_bias\": False       # Query-Key-Value bias\n",
    "}"
   ]
  },
  {
   "cell_type": "markdown",
   "id": "f4068d6a",
   "metadata": {},
   "source": [
    "* `\"vocab_size\"` 1-тарауда талқыланған BPE токенизаторы қолдайтын 50 257 сөзден тұратын сөздік қорының өлшемін білдіреді.\n",
    "* `\"context_length\"` 1-тарауда қарастырылған позициялық ендірмелер арқылы қамтамасыз етілетін модельдің максималды кіріс токендерінің санын білдіреді.\n",
    "* `\"emb_dim\"` — бұл токендік кірістерге арналған ендірме (embeding) өлшемі, ол әрбір кіріс токенін 768 өлшемді векторға айналдырады.\n",
    "* `\"n_heads\"` — 2-тарауда іске асырылған көпбасты назар аудару механизміндегі назар аудару бастарының саны.\n",
    "* `\"n_layers\"` — бұл модель ішіндегі трансформер блоктарының саны, оны біз алдағы бөлімдерде іске асырамыз.\n",
    "* `\"drop_rate\"` — бұл 2-тарауда талқыланған dropout механизмінің қарқындылығы; 0.1 мәні артық үйренуді азайту үшін оқыту кезінде жасырын бірліктердің 10%-ын алып тастауды білдіреді.\n",
    "* `\"qkv_bias\"` сұрау (Q), кілт (K) және мән (V) тензорларын есептеу кезінде көпбасты назар аудару механизміндегі (2-тараудан) `Linear` қабаттарында ығысу векторының болуын анықтайды; біз бұл опцияны өшіреміз, бұл заманауи LLM-дерде стандартты тәжірибе болып табылады; дегенмен, біз бұған 4-тарауда OpenAI-дың алдын ала оқытылған GPT-2 салмақтарын біздің қайта іске асыруымызға жүктеген кезде қайта ораламыз.\n",
    "***\n",
    "* `\"vocab_size\"` указывает на размер словаря в 50 257 слов, который поддерживается токенизатором BPE, рассмотренным в Главе 1.\n",
    "* `\"context_length\"` представляет максимальное количество входных токенов для модели, которое обеспечивается позиционными встраиваниями (эмбеддингами), рассмотренными в Главе 1.\n",
    "* `\"emb_dim\"` — это размер встраивания (эмбеддинга) для входных токенов, преобразующий каждый входной токен в 768-мерный вектор.\n",
    "* `\"n_heads\"` — это количество голов внимания в механизме многоголового внимания, реализованном в Главе 2.\n",
    "* `\"n_layers\"` — это количество блоков трансформера в модели, которые мы реализуем в следующих разделах.\n",
    "* `\"drop_rate\"` — это интенсивность механизма dropout, рассмотренного в Главе 2; 0.1 означает исключение 10% скрытых юнитов во время обучения для борьбы с переобучением.\n",
    "* `\"qkv_bias\"` определяет, должны ли слои `Linear` в механизме многоголового внимания (из Главы 3) включать вектор смещения при вычислении тензоров запроса (Q), ключа (K) и значения (V); мы отключим эту опцию, что является стандартной практикой в современных LLM; однако мы вернемся к этому позже, когда будем загружать предварительно обученные веса GPT-2 от OpenAI в нашу реализацию в главе 4."
   ]
  },
  {
   "cell_type": "markdown",
   "id": "f4a12590",
   "metadata": {},
   "source": [
    "<img src=\"https://sebastianraschka.com/images/LLMs-from-scratch-images/ch04_compressed/03.webp\" width=\"1000px\">"
   ]
  },
  {
   "cell_type": "code",
   "execution_count": 5,
   "id": "76c06a11",
   "metadata": {},
   "outputs": [],
   "source": [
    "import torch\n",
    "import torch.nn as nn\n",
    "\n",
    "\n",
    "class DummyGPTModel(nn.Module):\n",
    "    def __init__(self, cfg):\n",
    "        super().__init__()\n",
    "        self.tok_emb = nn.Embedding(cfg[\"vocab_size\"], cfg[\"emb_dim\"])\n",
    "        self.pos_emb = nn.Embedding(cfg[\"context_length\"], cfg[\"emb_dim\"])\n",
    "        self.drop_emb = nn.Dropout(cfg[\"drop_rate\"])\n",
    "        \n",
    "        # Use a placeholder for TransformerBlock\n",
    "        self.trf_blocks = nn.Sequential(\n",
    "            *[DummyTransformerBlock(cfg) for _ in range(cfg[\"n_layers\"])])\n",
    "        \n",
    "        # Use a placeholder for LayerNorm\n",
    "        self.final_norm = DummyLayerNorm(cfg[\"emb_dim\"])\n",
    "        self.out_head = nn.Linear(\n",
    "            cfg[\"emb_dim\"], cfg[\"vocab_size\"], bias=False\n",
    "        )\n",
    "\n",
    "    def forward(self, in_idx):\n",
    "        batch_size, seq_len = in_idx.shape\n",
    "        tok_embeds = self.tok_emb(in_idx)\n",
    "        pos_embeds = self.pos_emb(torch.arange(seq_len, device=in_idx.device))\n",
    "        x = tok_embeds + pos_embeds\n",
    "        x = self.drop_emb(x)\n",
    "        x = self.trf_blocks(x)\n",
    "        x = self.final_norm(x)\n",
    "        logits = self.out_head(x)\n",
    "        return logits\n",
    "\n",
    "\n",
    "class DummyTransformerBlock(nn.Module):\n",
    "    def __init__(self, cfg):\n",
    "        super().__init__()\n",
    "        # A simple placeholder\n",
    "\n",
    "    def forward(self, x):\n",
    "        # This block does nothing and just returns its input.\n",
    "        return x\n",
    "\n",
    "\n",
    "class DummyLayerNorm(nn.Module):\n",
    "    def __init__(self, normalized_shape, eps=1e-5):\n",
    "        super().__init__()\n",
    "        # The parameters here are just to mimic the LayerNorm interface.\n",
    "\n",
    "    def forward(self, x):\n",
    "        # This layer does nothing and just returns its input.\n",
    "        return x"
   ]
  },
  {
   "cell_type": "markdown",
   "id": "43c56e13",
   "metadata": {},
   "source": [
    "<img src=\"https://sebastianraschka.com/images/LLMs-from-scratch-images/ch04_compressed/04.webp?123\" width=\"1000px\">"
   ]
  },
  {
   "cell_type": "code",
   "execution_count": 6,
   "id": "4db0aa65",
   "metadata": {},
   "outputs": [
    {
     "name": "stdout",
     "output_type": "stream",
     "text": [
      "tensor([[6109, 3626, 6100,  345],\n",
      "        [6109, 1110, 6622,  257]])\n"
     ]
    }
   ],
   "source": [
    "import tiktoken\n",
    "\n",
    "tokenizer = tiktoken.get_encoding(\"gpt2\")\n",
    "\n",
    "batch = []\n",
    "\n",
    "txt1 = \"Every effort moves you\"\n",
    "txt2 = \"Every day holds a\"\n",
    "\n",
    "batch.append(torch.tensor(tokenizer.encode(txt1)))\n",
    "batch.append(torch.tensor(tokenizer.encode(txt2)))\n",
    "batch = torch.stack(batch, dim=0)\n",
    "print(batch)"
   ]
  },
  {
   "cell_type": "code",
   "execution_count": 7,
   "id": "a39233e8",
   "metadata": {},
   "outputs": [
    {
     "name": "stdout",
     "output_type": "stream",
     "text": [
      "Output shape: torch.Size([2, 4, 50257])\n",
      "tensor([[[-1.2034,  0.3201, -0.7130,  ..., -1.5548, -0.2390, -0.4667],\n",
      "         [-0.1192,  0.4539, -0.4432,  ...,  0.2392,  1.3469,  1.2430],\n",
      "         [ 0.5307,  1.6720, -0.4695,  ...,  1.1966,  0.0111,  0.5835],\n",
      "         [ 0.0139,  1.6754, -0.3388,  ...,  1.1586, -0.0435, -1.0400]],\n",
      "\n",
      "        [[-1.0908,  0.1798, -0.9484,  ..., -1.6047,  0.2439, -0.4530],\n",
      "         [-0.7860,  0.5581, -0.0610,  ...,  0.4835, -0.0077,  1.6621],\n",
      "         [ 0.3567,  1.2698, -0.6398,  ..., -0.0162, -0.1296,  0.3717],\n",
      "         [-0.2407, -0.7349, -0.5102,  ...,  2.0057, -0.3694,  0.1814]]],\n",
      "       grad_fn=<UnsafeViewBackward0>)\n"
     ]
    }
   ],
   "source": [
    "torch.manual_seed(123)\n",
    "model = DummyGPTModel(GPT_CONFIG_124M)\n",
    "\n",
    "logits = model(batch)\n",
    "print(\"Output shape:\", logits.shape)\n",
    "print(logits)"
   ]
  },
  {
   "cell_type": "markdown",
   "id": "4846a4b3",
   "metadata": {},
   "source": [
    "## 3.2 Активацияларды `қабат нормализациясы` арқылы нормализациясын жасау (layer normalization)\n",
    "## 3.2 Нормализация активаций с помощью `послойной нормализации` (layer normalization)\n"
   ]
  },
  {
   "cell_type": "markdown",
   "id": "6c7435a5",
   "metadata": {},
   "source": [
    "* `LayerNorm` деп те аталатын қабат нормализациясы, нейрондық желі қабатындағы активациялардың орташа мәнін 0-ге, ал дисперсиясын 1-ге келтіреді.\n",
    "* Бұл жаттықтыруды тұрақтандырады және тиімді салмақтарға тезірек жақындауға мүмкіндік береді.\n",
    "* Қабат нормализациясы трансформер блогының ішіндегі (оны біз кейінірек іске асырамыз) көпбасты зейін модуліне дейін және одан кейін қолданылады. Сонымен қатар, ол соңғы шығыс қабатының алдында да қолданылады.\n",
    "***\n",
    "* Послойная нормализация, также известная как LayerNorm, центрирует активации слоя нейронной сети так, чтобы их среднее значение было равно 0, а дисперсия — 1.\n",
    "* Это стабилизирует обучение и обеспечивает более быструю сходимость к эффективным весам.\n",
    "* Послойная нормализация применяется как до, так и после модуля многоголового внимания (multi-head attention) внутри блока трансформера (который мы реализуем позже); она также применяется перед последним выходным слоем."
   ]
  },
  {
   "cell_type": "markdown",
   "id": "d90f266a",
   "metadata": {},
   "source": [
    "<img src=\"https://sebastianraschka.com/images/LLMs-from-scratch-images/ch04_compressed/05.webp\" width=\"1000px\">"
   ]
  },
  {
   "cell_type": "markdown",
   "id": "de2f1578",
   "metadata": {},
   "source": [
    "- Қабат нормализацияның қалай жұмыс істейтінін көру үшін, кішігірім кіріс үлгісін қарапайым нейрондық желі қабатынан өткізіп көрейік:\n",
    "***\n",
    "- Давайте посмотрим, как работает послойная нормализация, пропустив небольшой входной образец через простой слой нейронной сети:"
   ]
  },
  {
   "cell_type": "code",
   "execution_count": 8,
   "id": "d74e6bcb",
   "metadata": {},
   "outputs": [
    {
     "data": {
      "text/plain": [
       "tensor([[-0.1115,  0.1204, -0.3696, -0.2404, -1.1969],\n",
       "        [ 0.2093, -0.9724, -0.7550,  0.3239, -0.1085]])"
      ]
     },
     "execution_count": 8,
     "metadata": {},
     "output_type": "execute_result"
    }
   ],
   "source": [
    "torch.manual_seed(123)\n",
    "\n",
    "# create 2 training examples with 5 dimensions (features) each\n",
    "batch_example = torch.randn(2, 5) \n",
    "batch_example"
   ]
  },
  {
   "cell_type": "code",
   "execution_count": 9,
   "id": "77089eae",
   "metadata": {},
   "outputs": [
    {
     "data": {
      "text/plain": [
       "tensor([[0.2260, 0.3470, 0.0000, 0.2216, 0.0000, 0.0000],\n",
       "        [0.2133, 0.2394, 0.0000, 0.5198, 0.3297, 0.0000]],\n",
       "       grad_fn=<ReluBackward0>)"
      ]
     },
     "execution_count": 9,
     "metadata": {},
     "output_type": "execute_result"
    }
   ],
   "source": [
    "layer = nn.Sequential(nn.Linear(5, 6), nn.ReLU())\n",
    "out = layer(batch_example)\n",
    "out"
   ]
  },
  {
   "cell_type": "markdown",
   "id": "33c673df",
   "metadata": {},
   "source": [
    "- Жоғарыдағы 2 кірістің әрқайсысы үшін орташа мәні мен дисперсиясын есептейік:\n",
    "- Давайте вычислим среднее значение и дисперсию для каждого из 2 входов выше:"
   ]
  },
  {
   "cell_type": "code",
   "execution_count": 10,
   "id": "4822fe78",
   "metadata": {},
   "outputs": [
    {
     "name": "stdout",
     "output_type": "stream",
     "text": [
      "Mean:\n",
      " tensor([[0.1324],\n",
      "        [0.2170]], grad_fn=<MeanBackward1>)\n",
      "Variance:\n",
      " tensor([[0.0231],\n",
      "        [0.0398]], grad_fn=<VarBackward0>)\n"
     ]
    }
   ],
   "source": [
    "mean = out.mean(dim=-1, keepdim=True)\n",
    "var = out.var(dim=-1, keepdim=True)\n",
    "\n",
    "print(\"Mean:\\n\", mean)\n",
    "print(\"Variance:\\n\", var)"
   ]
  },
  {
   "cell_type": "markdown",
   "id": "14e92b2e",
   "metadata": {},
   "source": [
    "- Нормализациялау екі кірістің (қатардың) әрқайсысына тәуелсіз түрде қолданылады;  `dim=-1` параметры  баған  бойынша есептеу үшін қолданады. (қатар бойынша емес)\n",
    "***\n",
    "- Нормализация применяется к каждому из двух входов (строк) независимо; `dim=-1` указывает, что вычисления производятся по столбцам, а не по строкам."
   ]
  },
  {
   "cell_type": "markdown",
   "id": "34e29d5b",
   "metadata": {},
   "source": [
    "<img src=\"https://sebastianraschka.com/images/LLMs-from-scratch-images/ch04_compressed/06.webp\" width=\"1000px\">"
   ]
  },
  {
   "cell_type": "markdown",
   "id": "8eb48ced",
   "metadata": {},
   "source": [
    "- Орташа мәнді алып, дисперсияның квадрат түбіріне (стандартты ауытқуға) бөлсек, кірістер баған (белгі) өлшемі бойынша орташа мәні 0, ал дисперсиясы 1 болатындай етіп центрленеді:\n",
    "***\n",
    "- Вычитание среднего значения и деление на квадратный корень из дисперсии (стандартное отклонение) центрирует входы так, чтобы их среднее значение стало равным 0, а дисперсия — 1 по измерению столбцов (признаков):"
   ]
  },
  {
   "cell_type": "code",
   "execution_count": 11,
   "id": "55f89d9e",
   "metadata": {},
   "outputs": [
    {
     "name": "stdout",
     "output_type": "stream",
     "text": [
      "Normalized layer outputs:\n",
      " tensor([[ 0.6159,  1.4126, -0.8719,  0.5872, -0.8719, -0.8719],\n",
      "        [-0.0189,  0.1121, -1.0876,  1.5173,  0.5647, -1.0876]],\n",
      "       grad_fn=<DivBackward0>)\n",
      "Mean:\n",
      " tensor([[-5.9605e-08],\n",
      "        [ 1.9868e-08]], grad_fn=<MeanBackward1>)\n",
      "Variance:\n",
      " tensor([[1.0000],\n",
      "        [1.0000]], grad_fn=<VarBackward0>)\n"
     ]
    }
   ],
   "source": [
    "out_norm = (out - mean) / torch.sqrt(var)\n",
    "print(\"Normalized layer outputs:\\n\", out_norm)\n",
    "\n",
    "mean = out_norm.mean(dim=-1, keepdim=True)\n",
    "var = out_norm.var(dim=-1, keepdim=True)\n",
    "print(\"Mean:\\n\", mean)\n",
    "print(\"Variance:\\n\", var)"
   ]
  },
  {
   "cell_type": "markdown",
   "id": "e66cbb15",
   "metadata": {},
   "source": [
    "- Әрбір кіріс 0-ге центрленген және дисперсиясы 1-ге тең; оқылуын жақсарту үшін PyTorch-тың ғылыми нотациясын өшіруге болады:\n",
    "***\n",
    "* Каждый вход центрирован на 0 и имеет единичную дисперсию 1; для улучшения читаемости можно отключить научную нотацию в PyTorch:"
   ]
  },
  {
   "cell_type": "code",
   "execution_count": 12,
   "id": "783b5daa",
   "metadata": {},
   "outputs": [
    {
     "name": "stdout",
     "output_type": "stream",
     "text": [
      "Mean:\n",
      " tensor([[    -0.0000],\n",
      "        [     0.0000]], grad_fn=<MeanBackward1>)\n",
      "Variance:\n",
      " tensor([[1.0000],\n",
      "        [1.0000]], grad_fn=<VarBackward0>)\n"
     ]
    }
   ],
   "source": [
    "torch.set_printoptions(sci_mode=False)\n",
    "print(\"Mean:\\n\", mean)\n",
    "print(\"Variance:\\n\", var)"
   ]
  },
  {
   "cell_type": "markdown",
   "id": "5e6b1b87",
   "metadata": {},
   "source": [
    "- Жоғарыда біз әрбір кірісті нормаладық.\n",
    "- Енді осы идеяны пайдалана отырып, `LayerNorm` класын іске асыра аламыз:\n",
    "***\n",
    "- Выше мы нормализовали признаки каждого входа.\n",
    "- Теперь, используя эту же идею, мы можем реализовать класс `LayerNorm`:"
   ]
  },
  {
   "cell_type": "code",
   "execution_count": 13,
   "id": "d1e02d05",
   "metadata": {},
   "outputs": [],
   "source": [
    "class LayerNorm(nn.Module):\n",
    "    def __init__(self, emb_dim):\n",
    "        super().__init__()\n",
    "        self.eps = 1e-5\n",
    "        self.scale = nn.Parameter(torch.ones(emb_dim))\n",
    "        self.shift = nn.Parameter(torch.zeros(emb_dim))\n",
    "\n",
    "    def forward(self, x):\n",
    "        mean = x.mean(dim=-1, keepdim=True)\n",
    "        var = x.var(dim=-1, keepdim=True, unbiased=False)\n",
    "        norm_x = (x - mean) / torch.sqrt(var + self.eps)\n",
    "        return self.scale * norm_x + self.shift"
   ]
  },
  {
   "cell_type": "markdown",
   "id": "833d9530",
   "metadata": {},
   "source": [
    "**Масштабтау және ығыстыру**\n",
    "* Орташа мәнді алып, дисперсияға бөлу арқылы нормалауды орындаумен қатар, біз екі оқытылатын параметрді қостық: `scale` (масштабтау) және `shift` (ығыстыру) параметрі. LLM жаттығу кезінде өзгеретін параметрлер\n",
    "* Бастапқы `scale` (1-ге көбейту) және `shift` (0-ді қосу) мәндері ешқандай әсер етпейді.\n",
    "* Бұл  ең қолайлы масштабтау мен ығыстыруды үйренуге мүмкіндік береді.\n",
    "* Сондай-ақ, дисперсияның квадрат түбірін есептемес бұрын, біз шағын `eps` мәнін қосатынымызды ескеріңіз. Бұл дисперсия 0-ге тең болған жағдайда нөлге бөлу қателерін болдырмау үшін жасалады.\n",
    "***Ығысқан дисперсия***\n",
    "* Жоғарыдағы дисперсияны есептеуде `unbiased=False` параметрін орнату дисперсияны есептеу үшін $\\frac{\\sum_i (x_i - \\bar{x})^2}{n}$ формуласын пайдалануды білдіреді, мұндағы `n` — таңдау көлемі (бұл жағдайда, қатарлар немесе бағандар саны).\n",
    "* Ендірме өлшемі өте үлкен болатын LLM үшін `n` мен `n-1` арасындағы айырмашылық мардымсыз.\n",
    "* Алайда, GPT-2 нормализацияя қабаттарында ығысқан дисперсия арқылы жаттықтырылған, сондықтан біз бұл параметрді кейінгі тарауларда жүктейтін алдын ала оқытылған салмақтармен үйлесімділік үшін қостық.\n",
    "* Енді `LayerNorm`-ды іс жүзінде қолданып көрейік:\n",
    "***\n",
    "***Масштабирование и сдвиг***\n",
    "- Обратите внимание, что в дополнение к выполнению нормализации путём вычитания среднего и деления на дисперсию, мы добавили два обучаемых параметра: `scale` (масштаб) и `shift` (сдвиг).\n",
    "- Начальные значения `scale` (умножение на 1) и `shift` (сложение с 0) не оказывают никакого эффекта. Однако `scale` и `shift` являются обучаемыми параметрами, которые LLM (Большая языковая модель) автоматически настраивает во время обучения.\n",
    "- Это позволяет модели изучить подходящие масштабирование и сдвиг, которые наилучшим образом соответствуют обрабатываемым данным.\n",
    "- Заметим также, что мы добавляем небольшое значение `eps` перед вычислением квадратного корня из дисперсии. Это делается для того, чтобы избежать ошибок деления на ноль, если дисперсия равна 0.\n",
    "\n",
    "***Смещённая дисперсия***\n",
    "\n",
    "- В приведённом выше расчёте дисперсии установка `unbiased=False` означает использование формулы $\\frac{\\sum_i (x_i - \\bar{x})^2}{n}$ для вычисления дисперсии, где n — размер выборки (здесь — количество признаков или столбцов). \n",
    "- Для LLM, где размерность вложения n очень велика, разница между использованием n и n-1 незначительна.\n",
    "- Однако GPT-2 обучалась со смещённой дисперсией в слоях нормализации, поэтому мы также приняли эту настройку из соображений совместимости с предобученными весами, которые мы будем загружать в следующих главах.\n",
    "- Теперь давайте опробуем LayerNorm на практике:"
   ]
  },
  {
   "cell_type": "code",
   "execution_count": 14,
   "id": "b167ac45",
   "metadata": {},
   "outputs": [],
   "source": [
    "ln = LayerNorm(emb_dim=5)\n",
    "out_ln = ln(batch_example)"
   ]
  },
  {
   "cell_type": "code",
   "execution_count": 15,
   "id": "4029f1fd",
   "metadata": {},
   "outputs": [
    {
     "name": "stdout",
     "output_type": "stream",
     "text": [
      "Mean:\n",
      " tensor([[    -0.0000],\n",
      "        [     0.0000]], grad_fn=<MeanBackward1>)\n",
      "Variance:\n",
      " tensor([[1.0000],\n",
      "        [1.0000]], grad_fn=<VarBackward0>)\n"
     ]
    }
   ],
   "source": [
    "mean = out_ln.mean(dim=-1, keepdim=True)\n",
    "var = out_ln.var(dim=-1, unbiased=False, keepdim=True)\n",
    "\n",
    "print(\"Mean:\\n\", mean)\n",
    "print(\"Variance:\\n\", var)"
   ]
  },
  {
   "cell_type": "markdown",
   "id": "8a47396f",
   "metadata": {},
   "source": [
    "<img src=\"https://sebastianraschka.com/images/LLMs-from-scratch-images/ch04_compressed/07.webp\" width=\"1000px\">"
   ]
  },
  {
   "cell_type": "markdown",
   "id": "8a87e57a",
   "metadata": {},
   "source": [
    "## 3.3 GELU активациясы бар feed-forward желісін іске асыру\n",
    "## 3.3 Реализация feed-forward сети с активацией GELU"
   ]
  },
  {
   "cell_type": "markdown",
   "id": "4e74746c",
   "metadata": {},
   "source": [
    "- Бұл бөлімде біз LLM-дерде (Ауқымды тіл модельдерде) трансформатор блогының бөлігі ретінде қолданылатын шағын нейрондық  субмодулін іске асырамыз.\n",
    "- Алдымен активациясы функциясынан бастаймыз.\n",
    "- Тереңд оқытуда **ReLU** (Rectified Linear Unit) активация функциялары қарапайымдылығы мен әртүрлі нейрондық желі архитектураларындағы тиімділігіне байланысты жиі қолданылады.\n",
    "- LLM-дерде дәстүрлі **ReLU**-дан басқа активация функцияларының түрлі типтері қолданылады; олардың екі жарқын мысалы – **GELU** (Gaussian Error Linear Unit) және **SwiGLU** (Swish-Gated Linear Unit).\n",
    "- `ReLU` (Rectified Linear Unit) — қарапайым, өткір функция. Егер кіріс теріс болса, шығыс нөлге тең болады. Егер оң болса, шығыс кірістің өзіне тең. Бұл нөл нүктесінде функция дифференциалданбайтын қатты «бұрыш» жасайды. Оны қарапайым қосу/өшіру қосқышы ретінде елестетуге болады.\n",
    "\n",
    "- `GELU` (Gaussian Error Linear Unit) және `SwiGLU` (Swish-Gated Linear Unit) — тегіс функциялар. Олар нөл айналасында біртіндеп иіледі, яғни олардың барлық жерде градиенті болады. Бұл тегістік оқыту процесіне (градиенттік түсу) тиімдірек жұмыс істеуге көмектеседі, бұл тұрақты оқытуға және жиі жақсырақ нәтижелерге әкеледі. Олар ақпараттың неғұрлым дәл ағынын қамтамасыз ететін жарық реттегішіне ұқсайды.\n",
    "***\n",
    "- В этом разделе мы реализуем небольшой подмодуль нейронной сети, который используется как часть блока трансформера в LLM (больших языковых моделях).\n",
    "- Начнём с функции активации.\n",
    "- В глубоком обучении функции активации **ReLU** (Rectified Linear Unit) часто используются благодаря их простоте и эффективности в различных архитектурах нейронных сетей.\n",
    "- В LLM, помимо традиционной **ReLU**, используются и другие типы функций активации; два ярких примера — это **GELU** (Gaussian Error Linear Unit) и **SwiGLU** (Swish-Gated Linear Unit).\n",
    "- `ReLU` (Rectified Linear Unit) — это простая, резкая функция. Если входное значение отрицательное, выход равен нулю. Если оно положительное, выход равен самому входному значению. Это создает жёсткий «угол» в точке ноль, где функция недифференцируема. Думайте о ней как о простом переключателе вкл/выкл.\n",
    "- `GELU` (Gaussian Error Linear Unit) и `SwiGLU` (Swish-Gated Linear Unit) — это плавные функции. Они мягко изгибаются вокруг нуля, что означает, что у них везде есть градиент. Эта плавность помогает процессу обучения (градиентному спуску) работать более эффективно, что приводит к более стабильному обучению и зачастую к лучшим результатам. Они больше похожи на диммер (регулятор яркости), который позволяет более тонко управлять потоком информации."
   ]
  },
  {
   "cell_type": "code",
   "execution_count": 16,
   "id": "493a4a34",
   "metadata": {},
   "outputs": [],
   "source": [
    "class GELU(nn.Module):\n",
    "    def __init__(self):\n",
    "        super().__init__()\n",
    "\n",
    "    def forward(self, x):\n",
    "        return 0.5 * x * (1 + torch.tanh(\n",
    "            torch.sqrt(torch.tensor(2.0 / torch.pi)) * \n",
    "            (x + 0.044715 * torch.pow(x, 3))\n",
    "        ))"
   ]
  },
  {
   "cell_type": "code",
   "execution_count": 17,
   "id": "f8aabf72",
   "metadata": {},
   "outputs": [
    {
     "data": {
      "image/png": "[encoded data removed]",
      "text/plain": [
       "<Figure size 800x300 with 2 Axes>"
      ]
     },
     "metadata": {},
     "output_type": "display_data"
    }
   ],
   "source": [
    "import matplotlib.pyplot as plt\n",
    "\n",
    "gelu, relu = GELU(), nn.ReLU()\n",
    "\n",
    "# Some sample data\n",
    "x = torch.linspace(-3, 3, 100)\n",
    "y_gelu, y_relu = gelu(x), relu(x)\n",
    "\n",
    "plt.figure(figsize=(8, 3))\n",
    "for i, (y, label) in enumerate(zip([y_gelu, y_relu], [\"GELU\", \"ReLU\"]), 1):\n",
    "    plt.subplot(1, 2, i)\n",
    "    plt.plot(x, y)\n",
    "    plt.title(f\"{label} activation function\")\n",
    "    plt.xlabel(\"x\")\n",
    "    plt.ylabel(f\"{label}(x)\")\n",
    "    plt.grid(True)\n",
    "\n",
    "plt.tight_layout()\n",
    "plt.show()"
   ]
  },
  {
   "cell_type": "markdown",
   "id": "b8092f61",
   "metadata": {},
   "source": [
    "* Көріп отырғанымыздай, **ReLU** – бұл бөлікті-сызықтық функция: егер оған берілген сан оң болса, ол сол санның өзін шығарады, ал теріс болса, нөлді шығарады.\n",
    "* **GELU** – бұл **ReLU**-ға ұқсайтын, бірақ тегіс әрі сызықтық емес функция. Оның айырмашылығы, теріс сандар үшін градиенті нөлге тең емес (тек -0.75-ке жақын нүктеде ғана нөлге жуықтайды).\n",
    "* Енді, кейінірек LLM-нің трансформер блогында қолданылатын `FeedForward` атты шағын нейрондық желі модулін жасап көрейік:\n",
    "***\n",
    "* Как мы видим, **ReLU** — это кусочно-линейная функция, которая просто возвращает входное число, если оно положительное, а в противном случае возвращает ноль.\n",
    "* **GELU** — это плавная, нелинейная функция, похожая на **ReLU**, но имеющая ненулевой градиент для отрицательных значений (за исключением точки примерно -0.75).\n",
    "* Далее, давайте реализуем небольшой модуль нейронной сети `FeedForward`, который мы позже будем использовать в блоке трансформера LLM:"
   ]
  },
  {
   "cell_type": "code",
   "execution_count": 18,
   "id": "65647177",
   "metadata": {},
   "outputs": [],
   "source": [
    "class FeedForward(nn.Module):\n",
    "    def __init__(self, cfg):\n",
    "        super().__init__()\n",
    "        self.layers = nn.Sequential(\n",
    "            nn.Linear(cfg[\"emb_dim\"], 4 * cfg[\"emb_dim\"]),\n",
    "            GELU(),\n",
    "            nn.Linear(4 * cfg[\"emb_dim\"], cfg[\"emb_dim\"]),\n",
    "        )\n",
    "\n",
    "    def forward(self, x):\n",
    "        return self.layers(x)"
   ]
  },
  {
   "cell_type": "code",
   "execution_count": 19,
   "id": "e33eed03",
   "metadata": {},
   "outputs": [
    {
     "name": "stdout",
     "output_type": "stream",
     "text": [
      "768\n"
     ]
    }
   ],
   "source": [
    "print(GPT_CONFIG_124M[\"emb_dim\"])"
   ]
  },
  {
   "cell_type": "markdown",
   "id": "27540bee",
   "metadata": {},
   "source": [
    "<img src=\"https://sebastianraschka.com/images/LLMs-from-scratch-images/ch04_compressed/09.webp?12\" width=\"1000px\">"
   ]
  },
  {
   "cell_type": "code",
   "execution_count": 20,
   "id": "d58abb6d",
   "metadata": {},
   "outputs": [
    {
     "name": "stdout",
     "output_type": "stream",
     "text": [
      "torch.Size([2, 3, 768])\n"
     ]
    }
   ],
   "source": [
    "ffn = FeedForward(GPT_CONFIG_124M)\n",
    "\n",
    "# input shape: [batch_size, num_token, emb_size]\n",
    "x = torch.rand(2, 3, 768) \n",
    "out = ffn(x)\n",
    "print(out.shape)"
   ]
  },
  {
   "cell_type": "markdown",
   "id": "154fdee6",
   "metadata": {},
   "source": [
    "<img src=\"https://sebastianraschka.com/images/LLMs-from-scratch-images/ch04_compressed/10.webp\" width=\"1000px\">"
   ]
  },
  {
   "cell_type": "markdown",
   "id": "962fe2d1",
   "metadata": {},
   "source": [
    "<img src=\"https://sebastianraschka.com/images/LLMs-from-scratch-images/ch04_compressed/11.webp\" width=\"1000px\">"
   ]
  },
  {
   "cell_type": "markdown",
   "id": "8eed3ad1",
   "metadata": {},
   "source": [
    "# 3.4 Төте байланыстарды қосу\n",
    "# 3.4  Добавление обходных соединений\n"
   ]
  },
  {
   "cell_type": "markdown",
   "id": "d786cce6",
   "metadata": {},
   "source": [
    "* Өткізіп жібергіш (skip) немесе қалдық (residual) қосылымдар деп аталатын қысқа жол (shortcut) қосылымдарының тұжырымдамасы туралы айтайық.\n",
    "* Бастапқыда қысқа жол қосылымдары компьютерлік көруге арналған терең желілерде (қалдық желілер) жоғалатын градиент мәселесін жеңілдету үшін ұсынылды.\n",
    "* Қысқа жол қосылымы градиенттің желі арқылы өтуі үшін баламалы қысқа жолды жасайды.\n",
    "* Ол бір қабаттың шығысын кейінгі қабаттың шығысына қосу арқылы қол жеткізіледі, бұл кезде әдетте олардың арасындағы бір немесе бірнеше қабат өткізіліп жіберіледі.\n",
    "* Бұл идеяны шағын мысал желісі арқылы көрсетейік:\n",
    "***\n",
    "* Далее, давайте поговорим о концепции обходных соединений, также называемых пропускающими (skip) или остаточными (residual) соединениями.\n",
    "* Изначально обходные соединения были предложены в глубоких сетях для компьютерного зрения (остаточных сетях), чтобы решить проблему затухающего градиента.\n",
    "* Обходное соединение создает альтернативный, более короткий путь для прохождения градиента через сеть.\n",
    "* Это достигается путем сложения выхода одного слоя с выходом последующего слоя, при этом обычно пропускается один или несколько слоев между ними.\n",
    "* Проиллюстрируем эту идею на примере небольшой сети:"
   ]
  },
  {
   "cell_type": "markdown",
   "id": "d6aca41c",
   "metadata": {},
   "source": [
    "<img src=\"https://sebastianraschka.com/images/LLMs-from-scratch-images/ch04_compressed/12.webp?123\" width=\"1000px\">"
   ]
  },
  {
   "cell_type": "code",
   "execution_count": 21,
   "id": "a6609e3f",
   "metadata": {},
   "outputs": [],
   "source": [
    "class ExampleDeepNeuralNetwork(nn.Module):\n",
    "    def __init__(self, layer_sizes, use_shortcut):\n",
    "        super().__init__()\n",
    "        self.use_shortcut = use_shortcut\n",
    "        self.layers = nn.ModuleList([\n",
    "            nn.Sequential(nn.Linear(layer_sizes[0], layer_sizes[1]), GELU()),\n",
    "            nn.Sequential(nn.Linear(layer_sizes[1], layer_sizes[2]), GELU()),\n",
    "            nn.Sequential(nn.Linear(layer_sizes[2], layer_sizes[3]), GELU()),\n",
    "            nn.Sequential(nn.Linear(layer_sizes[3], layer_sizes[4]), GELU()),\n",
    "            nn.Sequential(nn.Linear(layer_sizes[4], layer_sizes[5]), GELU())\n",
    "        ])\n",
    "\n",
    "    def forward(self, x):\n",
    "        for layer in self.layers:\n",
    "            # Compute the output of the current layer\n",
    "            layer_output = layer(x)\n",
    "            # Check if shortcut can be applied\n",
    "            if self.use_shortcut and x.shape == layer_output.shape:\n",
    "                x = x + layer_output\n",
    "            else:\n",
    "                x = layer_output\n",
    "        return x\n",
    "\n",
    "\n",
    "def print_gradients(model, x):\n",
    "    # Forward pass\n",
    "    output = model(x)\n",
    "    target = torch.tensor([[0.]])\n",
    "\n",
    "    # Calculate loss based on how close the target\n",
    "    # and output are\n",
    "    loss = nn.MSELoss()\n",
    "    loss = loss(output, target)\n",
    "    \n",
    "    # Backward pass to calculate the gradients\n",
    "    loss.backward()\n",
    "\n",
    "    for name, param in model.named_parameters():\n",
    "        if 'weight' in name:\n",
    "            # Print the mean absolute gradient of the weights\n",
    "            print(f\"{name} has gradient mean of {param.grad.abs().mean().item()}\")"
   ]
  },
  {
   "cell_type": "markdown",
   "id": "9c8f3f07",
   "metadata": {},
   "source": [
    "* Алдымен градиент мәндерін **қысқа жол қосылымдарынсыз** (`shortcut`) шығарып көрейік:\n",
    "    \n",
    "* Сначала давайте выведем значения градиента **без обходных соединений** (shortcut):"
   ]
  },
  {
   "cell_type": "code",
   "execution_count": 22,
   "id": "ed3d3efc",
   "metadata": {},
   "outputs": [
    {
     "name": "stdout",
     "output_type": "stream",
     "text": [
      "layers.0.0.weight has gradient mean of 0.00020173587836325169\n",
      "layers.1.0.weight has gradient mean of 0.00012011159560643137\n",
      "layers.2.0.weight has gradient mean of 0.0007152039906941354\n",
      "layers.3.0.weight has gradient mean of 0.0013988736318424344\n",
      "layers.4.0.weight has gradient mean of 0.005049645435065031\n"
     ]
    }
   ],
   "source": [
    "layer_sizes = [3, 3, 3, 3, 3, 1]  \n",
    "\n",
    "sample_input = torch.tensor([[1., 0., -1.]])\n",
    "\n",
    "torch.manual_seed(123)\n",
    "model_without_shortcut = ExampleDeepNeuralNetwork(\n",
    "    layer_sizes, use_shortcut=False\n",
    ")\n",
    "print_gradients(model_without_shortcut, sample_input)"
   ]
  },
  {
   "cell_type": "markdown",
   "id": "ce20ff1a",
   "metadata": {},
   "source": [
    "* Енді градиент мәндерін **қысқа жол қосылымдарымен** шығарып көрейік:\n",
    "***\n",
    "* Далее, давайте выведем значения градиента **с** обходными соединениями:"
   ]
  },
  {
   "cell_type": "code",
   "execution_count": 23,
   "id": "9f8d3737",
   "metadata": {},
   "outputs": [
    {
     "name": "stdout",
     "output_type": "stream",
     "text": [
      "layers.0.0.weight has gradient mean of 0.22169792652130127\n",
      "layers.1.0.weight has gradient mean of 0.20694106817245483\n",
      "layers.2.0.weight has gradient mean of 0.32896995544433594\n",
      "layers.3.0.weight has gradient mean of 0.2665732204914093\n",
      "layers.4.0.weight has gradient mean of 1.3258540630340576\n"
     ]
    }
   ],
   "source": [
    "torch.manual_seed(123)\n",
    "model_with_shortcut = ExampleDeepNeuralNetwork(\n",
    "    layer_sizes, use_shortcut=True\n",
    ")\n",
    "print_gradients(model_with_shortcut, sample_input)"
   ]
  },
  {
   "cell_type": "markdown",
   "id": "ba84bc39",
   "metadata": {},
   "source": [
    "* Жоғарыдағы нәтижеден көріп отырғанымыздай, **қысқа жол қосылымдары** (shortcuts) алғашқы қабаттардағы (`layer.0`-ға қарай) градиенттердің жойылып кетуін болдырмайды.\n",
    "* Трансформер блогын іске асырған кезде біз осы **қысқа жол қосылымы** (shortcuts) тұжырымдамасын келесі кезекте қолданамыз.\n",
    "***\n",
    "* Как мы видим из вывода выше, **обходные соединения** (shortcuts) предотвращают затухание градиентов в ранних слоях (в направлении `layer.0`).\n",
    "* Мы будем использовать эту концепцию **обходного соединения** (shortcuts) далее, когда будем реализовывать блок трансформера."
   ]
  },
  {
   "cell_type": "markdown",
   "id": "db0d1c32",
   "metadata": {},
   "source": [
    "## 3.5 Трансформер блогында **зейін** және **сызықтық қабаттарды** байланыстыру\n",
    "***\n",
    "## 3.5 Соединение **внимания** и **линейных слоев** в блоке трансформера"
   ]
  },
  {
   "cell_type": "markdown",
   "id": "a015ac42",
   "metadata": {},
   "source": [
    "* Бұл бөлімде жоғарыда қарастырылған құрылымдарды **трансформер блогына** біріктіреміз.\n",
    "* Трансформер блогы  \n",
    "    * 1. **Зейін модулінен** (Multi-Head Self-Attention);\n",
    "    * 2. **Сызықтық нейрондық желіден** (Linear layers), \n",
    "    * 3. **Feed Forward желіден**\n",
    "    * 4. **Dropout**\n",
    "    * 5. **Қысқа жол қосылымдарынан** (shortcuts)\n",
    "    тұратын құрылымдарды біріктіреді.\n",
    "* Сонымен қатар, трансформер блогында **dropout** және **қысқа жол қосылымдарын** (shortcuts) да пайдаланамыз.\n",
    "***\n",
    "* В этом разделе мы объединим предыдущие концепции в так называемый **блок трансформера**.\n",
    "* Блок трансформера объединяет \n",
    "    * 1. **Модуль  внимания** (Multi-Head Self-Attention)\n",
    "    * 2. **Линейными слои** (Linear layers)\n",
    "    * 3. **Нейронной сетью прямого распространения** (Feed Forward), \n",
    "    * 4. **Dropout** \n",
    "    * 5. **Обходные соединения** (shortcuts)."
   ]
  },
  {
   "cell_type": "code",
   "execution_count": 24,
   "id": "d78f98bc",
   "metadata": {},
   "outputs": [],
   "source": [
    "from previous_chapters import MultiHeadAttention\n",
    "\n",
    "class TransformerBlock(nn.Module):\n",
    "    def __init__(self, cfg):\n",
    "        super().__init__()\n",
    "        self.att = MultiHeadAttention(\n",
    "            d_in=cfg[\"emb_dim\"],\n",
    "            d_out=cfg[\"emb_dim\"],\n",
    "            context_length=cfg[\"context_length\"],\n",
    "            num_heads=cfg[\"n_heads\"], \n",
    "            dropout=cfg[\"drop_rate\"],\n",
    "            qkv_bias=cfg[\"qkv_bias\"])\n",
    "        self.ff = FeedForward(cfg)\n",
    "        self.norm1 = LayerNorm(cfg[\"emb_dim\"])\n",
    "        self.norm2 = LayerNorm(cfg[\"emb_dim\"])\n",
    "        self.drop_shortcut = nn.Dropout(cfg[\"drop_rate\"])\n",
    "\n",
    "    def forward(self, x):\n",
    "        # Shortcut connection for attention block\n",
    "        shortcut = x\n",
    "        x = self.norm1(x)\n",
    "        x = self.att(x)  # Shape [batch_size, num_tokens, emb_size]\n",
    "        x = self.drop_shortcut(x)\n",
    "        x = x + shortcut  # Add the original input back\n",
    "\n",
    "        # Shortcut connection for feed forward block\n",
    "        shortcut = x\n",
    "        x = self.norm2(x)\n",
    "        x = self.ff(x)\n",
    "        x = self.drop_shortcut(x)\n",
    "        x = x + shortcut  # Add the original input back\n",
    "\n",
    "        return x"
   ]
  },
  {
   "cell_type": "markdown",
   "id": "4b0c56b8",
   "metadata": {},
   "source": [
    "<img src=\"https://sebastianraschka.com/images/LLMs-from-scratch-images/ch04_compressed/13.webp?1\" width=\"1000px\">"
   ]
  },
  {
   "cell_type": "markdown",
   "id": "7d90b024",
   "metadata": {},
   "source": [
    "* Мысалы, \n",
    "     - Бізде әрқайсысында 6 токені бар 2 кіріс үлгісі бар, \n",
    "     - Және әрбір токен 768-өлшемді ендіру (embedding) векторы болсын; \n",
    "     - Трансформер блогы  зейінді (self-attention), одан кейін сызықтық қабаттарды қолданып, ұқсас өлшемді шығыс дерегін жасайды.\n",
    "* Шығыс деректерін біз алдыңғы тарауда талқылаған контекст векторларының толықтырылған нұсқасы ретінде қарастыруға болады.\n",
    "***\n",
    "* Предположим:\n",
    "     - у нас есть 2 входных примера по 6 токенов в каждом, \n",
    "     - Где каждый токен — это 768-мерный вектор-вложение (embedding); \n",
    "     - Блок трансформера применяет механизм внимания (self-attention), а затем линейные слои, чтобы получить на выходе данные аналогичного размера.\n",
    "* Эти выходные данные можно рассматривать как дополненную версию контекстных векторов, которые мы обсуждали в предыдущей главе."
   ]
  },
  {
   "cell_type": "code",
   "execution_count": 25,
   "id": "8c9cfd52",
   "metadata": {},
   "outputs": [
    {
     "name": "stdout",
     "output_type": "stream",
     "text": [
      "Input shape: torch.Size([2, 4, 768])\n",
      "Output shape: torch.Size([2, 4, 768])\n"
     ]
    }
   ],
   "source": [
    "torch.manual_seed(123)\n",
    "\n",
    "x = torch.rand(2, 4, 768)  # Shape: [batch_size, num_tokens, emb_dim]\n",
    "block = TransformerBlock(GPT_CONFIG_124M)\n",
    "output = block(x)\n",
    "\n",
    "print(\"Input shape:\", x.shape)\n",
    "print(\"Output shape:\", output.shape)"
   ]
  },
  {
   "cell_type": "markdown",
   "id": "bac68b3b",
   "metadata": {},
   "source": [
    "<img src=\"https://sebastianraschka.com/images/LLMs-from-scratch-images/ch04_compressed/14.webp?1\" width=\"1000px\">"
   ]
  },
  {
   "cell_type": "markdown",
   "id": "8ef09cec",
   "metadata": {},
   "source": [
    "## 3.6 GPT моделін құрастыру\n",
    "## 3.6 Создание GPT модели"
   ]
  },
  {
   "cell_type": "markdown",
   "id": "2f75935e",
   "metadata": {},
   "source": [
    "* Енді жұмыс істейтін GPT моделін алу үшін **трансформер блогын** осы тараудың басында қарастырылған құрылымындарды бірге қосайық.\n",
    "* Назар аударыңыз, трансформер блогы бірнеше рет қайталанады; ең кішкентай 124М GPT-2 моделінде біз оны 12 рет қайталаймыз:\n",
    "***\n",
    "* Теперь давайте вставим **блок трансформера** в архитектуру, которую мы написали в самом начале этой главы, чтобы получить рабочую архитектуру GPT.\n",
    "* Обратите внимание, что **блок трансформера** повторяется несколько раз; в случае самой маленькой модели GPT-2 на 124 миллиона параметров, мы повторяем его 12 раз:"
   ]
  },
  {
   "cell_type": "markdown",
   "id": "9bc1f517",
   "metadata": {},
   "source": [
    "<img src=\"https://sebastianraschka.com/images/LLMs-from-scratch-images/ch04_compressed/15.webp\" width=\"1000px\">"
   ]
  },
  {
   "cell_type": "markdown",
   "id": "ad704b22",
   "metadata": {},
   "source": [
    "* Зейін (self-attention)  механизмдер саны: `cfg[\"n_layers\"] = 12`:\n",
    "***\n",
    "* Количество механизмов внимания (self-attention):`cfg[\"n_layers\"] = 12`:"
   ]
  },
  {
   "cell_type": "code",
   "execution_count": 26,
   "id": "ed383c83",
   "metadata": {},
   "outputs": [],
   "source": [
    "class GPTModel(nn.Module):\n",
    "    def __init__(self, cfg):\n",
    "        super().__init__()\n",
    "        self.tok_emb = nn.Embedding(cfg[\"vocab_size\"], cfg[\"emb_dim\"])\n",
    "        self.pos_emb = nn.Embedding(cfg[\"context_length\"], cfg[\"emb_dim\"])\n",
    "        self.drop_emb = nn.Dropout(cfg[\"drop_rate\"])\n",
    "        \n",
    "        self.trf_blocks = nn.Sequential(\n",
    "            *[TransformerBlock(cfg) for _ in range(cfg[\"n_layers\"])])\n",
    "        \n",
    "        self.final_norm = LayerNorm(cfg[\"emb_dim\"])\n",
    "        self.out_head = nn.Linear(\n",
    "            cfg[\"emb_dim\"], cfg[\"vocab_size\"], bias=False\n",
    "        )\n",
    "\n",
    "    def forward(self, in_idx):\n",
    "        batch_size, seq_len = in_idx.shape\n",
    "        tok_embeds = self.tok_emb(in_idx)\n",
    "        pos_embeds = self.pos_emb(torch.arange(seq_len, device=in_idx.device))\n",
    "        x = tok_embeds + pos_embeds  # Shape [batch_size, num_tokens, emb_size]\n",
    "        x = self.drop_emb(x)\n",
    "        x = self.trf_blocks(x)\n",
    "        x = self.final_norm(x)\n",
    "        logits = self.out_head(x)\n",
    "        return logits"
   ]
  },
  {
   "cell_type": "markdown",
   "id": "de93446d",
   "metadata": {},
   "source": [
    "* 124M параметрлік модельдің конфигурациясын пайдаланып, біз енді бұл GPT моделін кездейсоқ бастапқы салмақтармен келесідей инициализациялай аламыз:\n",
    "***\n",
    "* Используя конфигурацию модели со 124 миллионами параметров, мы теперь можем инициализировать эту модель GPT со случайными начальными весами следующим образом:"
   ]
  },
  {
   "cell_type": "code",
   "execution_count": 27,
   "id": "13dd6696",
   "metadata": {},
   "outputs": [
    {
     "name": "stdout",
     "output_type": "stream",
     "text": [
      "Input batch:\n",
      " tensor([[6109, 3626, 6100,  345],\n",
      "        [6109, 1110, 6622,  257]])\n",
      "\n",
      "Output shape: torch.Size([2, 4, 50257])\n",
      "tensor([[[ 0.3613,  0.4222, -0.0711,  ...,  0.3483,  0.4661, -0.2838],\n",
      "         [-0.1792, -0.5660, -0.9485,  ...,  0.0477,  0.5181, -0.3168],\n",
      "         [ 0.7120,  0.0332,  0.1085,  ...,  0.1018, -0.4327, -0.2553],\n",
      "         [-1.0076,  0.3418, -0.1190,  ...,  0.7195,  0.4023,  0.0532]],\n",
      "\n",
      "        [[-0.2564,  0.0900,  0.0335,  ...,  0.2659,  0.4454, -0.6806],\n",
      "         [ 0.1230,  0.3653, -0.2074,  ...,  0.7705,  0.2710,  0.2246],\n",
      "         [ 1.0558,  1.0318, -0.2800,  ...,  0.6936,  0.3205, -0.3178],\n",
      "         [-0.1565,  0.3926,  0.3288,  ...,  1.2630, -0.1858,  0.0388]]],\n",
      "       grad_fn=<UnsafeViewBackward0>)\n"
     ]
    }
   ],
   "source": [
    "torch.manual_seed(123)\n",
    "model = GPTModel(GPT_CONFIG_124M)\n",
    "\n",
    "out = model(batch)\n",
    "print(\"Input batch:\\n\", batch)\n",
    "print(\"\\nOutput shape:\", out.shape)\n",
    "print(out)"
   ]
  },
  {
   "cell_type": "markdown",
   "id": "56fab058",
   "metadata": {},
   "source": [
    "* Біз бұл модельді келесі тарауда **жаттықтырамыз**.\n",
    "* Дегенмен, оның өлшемі туралы қысқаша ескертпе: біз оны бұрын 124М параметрлік модель деп атағанбыз; бұл санды келесідей қайта тексере аламыз:\n",
    "***\n",
    "* Мы будем **обучать** эту модель в следующей главе.\n",
    "* Однако, краткое замечание о её размере: ранее мы называли её моделью со 124 миллионами параметров; мы можем перепроверить это число следующим образом:"
   ]
  },
  {
   "cell_type": "code",
   "execution_count": 28,
   "id": "0cb46783",
   "metadata": {},
   "outputs": [
    {
     "name": "stdout",
     "output_type": "stream",
     "text": [
      "Total number of parameters: 163,009,536\n"
     ]
    }
   ],
   "source": [
    "total_params = sum(p.numel() for p in model.parameters())\n",
    "print(f\"Total number of parameters: {total_params:,}\")"
   ]
  },
  {
   "cell_type": "markdown",
   "id": "276ebb83",
   "metadata": {},
   "source": [
    "* Жоғарыда көргеніміздей, бұл модельде 124М емес, 163М параметр бар; неліктен?\n",
    "* Бастапқы GPT-2 мақаласында зерттеушілер **салмақтарды байланыстыруды (weight tying)** қолданған, бұл олардың токенді ендіру (`tok_emb`) қабатын шығыс қабаты ретінде қайта пайдаланғанын білдіреді, яғни `self.out_head.weight = self.tok_emb.weight` деп белгілеген.\n",
    "* Токенді ендіру қабаты 50 257 өлшемді **one-hot** кодталған кіріс токендерін 768 өлшемді ендіру (embedding) көрінісіне проекциялайды.\n",
    "* Шығыс қабаты 768 өлшемді ендірулерді қайтадан 50 257 өлшемді көрініске проекциялайды, осылайша біз оларды қайтадан сөздерге айналдыра аламыз (бұл туралы толығырақ келесі бөлімде).\n",
    "* Сонымен, ендіру және шығыс қабаттарының салмақ параметрлерінің саны бірдей, мұны олардың салмақ матрицаларының пішінінен көре аламыз.\n",
    "* Дегенмен, оның өлшемі туралы қысқаша ескертпе: біз оны бұрын 124М параметрлік модель деп атағанбыз; бұл санды келесідей қайта тексере аламыз:\n",
    "***\n",
    "* Как мы видим выше, у этой модели 163 миллиона параметров, а не 124; почему?\n",
    "* В оригинальной статье о GPT-2 исследователи применили **связывание весов (weight tying)**, что означает, что они повторно использовали слой вложений токенов (`tok_emb`) в качестве выходного слоя, то есть установили `self.out_head.weight = self.tok_emb.weight`.\n",
    "* Слой вложений токенов проецирует 50 257-мерные входные токены, закодированные методом **one-hot**, в 768-мерное представление-вложение (embedding).\n",
    "* Выходной слой проецирует 768-мерные вложения обратно в 50 257-мерное представление, чтобы мы могли преобразовать их обратно в слова (подробнее об этом в следующем разделе).\n",
    "* Таким образом, слой вложений и выходной слой имеют одинаковое количество весовых параметров, что мы можем видеть по форме их весовых матриц.\n",
    "* Однако, краткое замечание о её размере: ранее мы называли её моделью со 124 миллионами параметров; мы можем перепроверить это число следующим образом:"
   ]
  },
  {
   "cell_type": "code",
   "execution_count": 29,
   "id": "dc974565",
   "metadata": {},
   "outputs": [
    {
     "name": "stdout",
     "output_type": "stream",
     "text": [
      "Token embedding layer shape: torch.Size([50257, 768])\n",
      "Output layer shape: torch.Size([50257, 768])\n"
     ]
    }
   ],
   "source": [
    "print(\"Token embedding layer shape:\", model.tok_emb.weight.shape)\n",
    "print(\"Output layer shape:\", model.out_head.weight.shape)"
   ]
  },
  {
   "cell_type": "markdown",
   "id": "dfbbb647",
   "metadata": {},
   "source": [
    "* Бастапқы GPT-2 мақаласында зерттеушілер токенді ендіру матрицасын шығыс матрицасы ретінде қайта пайдаланған.\n",
    "* Сәйкесінше, егер біз шығыс қабатының параметрлерінің санын алып тастасақ, 124М параметрлік модельді алар едік:\n",
    "***\n",
    "* В оригинальной статье о GPT-2 исследователи повторно использовали матрицу вложений токенов в качестве выходной матрицы.\n",
    "* Соответственно, если мы вычтем количество параметров выходного слоя, мы получим модель со 124 миллионами параметров:"
   ]
  },
  {
   "cell_type": "code",
   "execution_count": 30,
   "id": "1c33a30a",
   "metadata": {},
   "outputs": [
    {
     "name": "stdout",
     "output_type": "stream",
     "text": [
      "Number of trainable parameters considering weight tying: 124,412,160\n"
     ]
    }
   ],
   "source": [
    "total_params_gpt2 =  total_params - sum(p.numel() for p in model.out_head.parameters())\n",
    "print(f\"Number of trainable parameters considering weight tying: {total_params_gpt2:,}\")"
   ]
  },
  {
   "cell_type": "code",
   "execution_count": 31,
   "id": "09dacb4a",
   "metadata": {},
   "outputs": [
    {
     "name": "stdout",
     "output_type": "stream",
     "text": [
      "Output layer shape: torch.Size([50257, 768])\n",
      "Number of trainable parameters considering weight tying: 124,412,160\n"
     ]
    }
   ],
   "source": [
    "print(\"Output layer shape:\", model.out_head.weight.shape)\n",
    "print(f\"Number of trainable parameters considering weight tying: {total_params_gpt2:,}\")"
   ]
  },
  {
   "cell_type": "code",
   "execution_count": 32,
   "id": "30287a21",
   "metadata": {},
   "outputs": [
    {
     "name": "stdout",
     "output_type": "stream",
     "text": [
      " Total Parameters: 163009536\n"
     ]
    }
   ],
   "source": [
    "print(f\" Total Parameters: {(50257 * 768) + 124_412_160}\")"
   ]
  },
  {
   "cell_type": "markdown",
   "id": "93daec34",
   "metadata": {},
   "source": [
    "* Тәжірибе жүзінде, модельдың салмақтарын байланыстырусыз (**weight-tying**) жаттықтыру оңайырақ, сондықтан біз оны бұл жерде іске асырмаймыз.\n",
    "* Дегенмен, біз 4-тарауда алдын ала жаттықтырылған салмақтарды жүктеген кезде осы салмақтарды байланыстыру идеясына қайта оралып, оны қолданатын боламыз.\n",
    "* Соңында, пайдалы анықтамалық нүкте ретінде модельдің жадқа қатысты талаптарын келесідей есептеуге болады:\n",
    "***\n",
    "* Обучать модель без связывания весов (**weight-tying**) проще, поэтому мы не станем реализовывать это здесь.\n",
    "* Однако мы вернемся к этой идее связывания весов и применим ее позже, когда будем загружать предварительно обученные веса в главе 4.\n",
    "* Наконец, мы можем вычислить требования модели к памяти следующим образом, что может служить полезной отправной точкой:"
   ]
  },
  {
   "cell_type": "code",
   "execution_count": 33,
   "id": "41378e64",
   "metadata": {},
   "outputs": [
    {
     "name": "stdout",
     "output_type": "stream",
     "text": [
      "Total size of the model: 621.83 MB\n"
     ]
    }
   ],
   "source": [
    "# Calculate the total size in bytes (assuming float32, 4 bytes per parameter)\n",
    "total_size_bytes = total_params * 4\n",
    "\n",
    "# Convert to megabytes\n",
    "total_size_mb = total_size_bytes / (1024 * 1024)\n",
    "\n",
    "print(f\"Total size of the model: {total_size_mb:.2f} MB\")"
   ]
  },
  {
   "cell_type": "markdown",
   "id": "37a2b4f2",
   "metadata": {},
   "source": [
    "* **GPT2-small** (біз  іске асырған **124M** конфигурация):\n",
    "    * \"emb\\_dim\" = 768\n",
    "    * \"n\\_layers\" = 12\n",
    "    * \"n\\_heads\" = 12\n",
    "\n",
    "* **GPT2-medium:**\n",
    "    * \"emb\\_dim\" = 1024\n",
    "    * \"n\\_layers\" = 24\n",
    "    * \"n\\_heads\" = 16\n",
    "\n",
    "* **GPT2-large:**\n",
    "    * \"emb\\_dim\" = 1280\n",
    "    * \"n\\_layers\" = 36\n",
    "    * \"n\\_heads\" = 20\n",
    "\n",
    "* **GPT2-XL:**\n",
    "    * \"emb\\_dim\" = 1600\n",
    "    * \"n\\_layers\" = 48\n",
    "    * \"n\\_heads\" = 25\n",
    "\n",
    "***\n",
    "* **GPT2-small** (конфигурация **124M**, которую мы уже реализовали):\n",
    "    * \"emb\\_dim\" = 768\n",
    "    * \"n\\_layers\" = 12\n",
    "    * \"n\\_heads\" = 12\n",
    "\n",
    "* **GPT2-medium:**\n",
    "    * \"emb\\_dim\" = 1024\n",
    "    * \"n\\_layers\" = 24\n",
    "    * \"n\\_heads\" = 16\n",
    "\n",
    "* **GPT2-large:**\n",
    "    * \"emb\\_dim\" = 1280\n",
    "    * \"n\\_layers\" = 36\n",
    "    * \"n\\_heads\" = 20\n",
    "\n",
    "* **GPT2-XL:**\n",
    "    * \"emb\\_dim\" = 1600\n",
    "    * \"n\\_layers\" = 48\n",
    "    * \"n\\_heads\" = 25"
   ]
  },
  {
   "cell_type": "markdown",
   "id": "451488fc",
   "metadata": {},
   "source": [
    "## 3.7 Мәтін генерациясы\n",
    "## 3.7 Генерация текста"
   ]
  },
  {
   "cell_type": "markdown",
   "id": "1a385a13",
   "metadata": {},
   "source": [
    "**Біз іске асырған GPT моделі, бір уақытта бір сөзден генерациялайды.**\n",
    "***\n",
    "**Модели как GPT, которую мы реализовали выше, используются для генерации по одному слову за раз.**"
   ]
  },
  {
   "cell_type": "markdown",
   "id": "a8e93b7d",
   "metadata": {},
   "source": [
    "<img src=\"https://sebastianraschka.com/images/LLMs-from-scratch-images/ch04_compressed/16.webp\" width=\"1000px\">"
   ]
  },
  {
   "cell_type": "markdown",
   "id": "f47f9f8a",
   "metadata": {},
   "source": [
    "* Төмендегі `generate_text_simple` функциясы мәтінді генерациялаудың қарапайым әрі жылдам әдісі болып табылатын сараң декодтауды (greedy decoding) жүзеге асырады.\n",
    "* Сараң декодтау кезінде модель әр қадамда ең жоғары ықтималдығы бар сөзді (немесе токенді) келесі шығыс ретінде таңдайды (ең жоғары логит ең жоғары ықтималдыққа сәйкес келеді, сондықтан бізге softmax функциясын тікелей есептеудің қажеті жоқ).\n",
    "* Келесі тарауда біз неғұрлым жетілдірілген `generate_text` функциясын жүзеге асыратын боламыз.\n",
    "* Төмендегі суретте GPT моделінің берілген кіріс контекстіне сүйеніп, келесі сөз токенін қалай генерациялайтыны көрсетілген.\n",
    "***\n",
    "* Следующая функция `generate_text_simple` реализует жадное декодирование (greedy decoding), которое является простым и быстрым методом генерации текста.\n",
    "* При жадном декодировании на каждом шаге модель выбирает слово (или токен) с наивысшей вероятностью в качестве следующего вывода (самый высокий логит соответствует самой высокой вероятности, поэтому нам технически даже не пришлось бы вычислять softmax-функцию в явном виде).\n",
    "* В следующей главе мы реализуем более продвинутую функцию `generate_text`.\n",
    "* На рисунке ниже показано, как модель GPT, получив входной контекст, генерирует следующий токен слова."
   ]
  },
  {
   "cell_type": "markdown",
   "id": "ee029870",
   "metadata": {},
   "source": [
    "<img src=\"https://sebastianraschka.com/images/LLMs-from-scratch-images/ch04_compressed/17.webp\" width=\"1000px\">"
   ]
  },
  {
   "cell_type": "code",
   "execution_count": 34,
   "id": "5179f4fb",
   "metadata": {},
   "outputs": [],
   "source": [
    "def generate_text_simple(model, idx, max_new_tokens, context_size):\n",
    "    # idx is (batch, n_tokens) array of indices in the current context\n",
    "    for _ in range(max_new_tokens):\n",
    "        \n",
    "        # Crop current context if it exceeds the supported context size\n",
    "        # E.g., if LLM supports only 5 tokens, and the context size is 10\n",
    "        # then only the last 5 tokens are used as context\n",
    "        idx_cond = idx[:, -context_size:]\n",
    "        \n",
    "        # Get the predictions\n",
    "        with torch.no_grad():\n",
    "            logits = model(idx_cond)\n",
    "        \n",
    "        # Focus only on the last time step\n",
    "        # (batch, n_tokens, vocab_size) becomes (batch, vocab_size)\n",
    "        logits = logits[:, -1, :]  \n",
    "\n",
    "        # Apply softmax to get probabilities\n",
    "        probas = torch.softmax(logits, dim=-1)  # (batch, vocab_size)\n",
    "\n",
    "        # Get the idx of the vocab entry with the highest probability value\n",
    "        idx_next = torch.argmax(probas, dim=-1, keepdim=True)  # (batch, 1)\n",
    "\n",
    "        # Append sampled index to the running sequence\n",
    "        idx = torch.cat((idx, idx_next), dim=1)  # (batch, n_tokens+1)\n",
    "\n",
    "    return idx"
   ]
  },
  {
   "cell_type": "markdown",
   "id": "314914b8",
   "metadata": {},
   "source": [
    "* Жоғарыдағы `generate_text_simple` функциясы итеративті процесті жүзеге асырады, онда ол бір уақытта бір токен генерациялайды.\n",
    "***\n",
    "* Функция `generate_text_simple`, представленная выше, реализует итеративный процесс, в котором она создает по одному токену за раз."
   ]
  },
  {
   "cell_type": "markdown",
   "id": "db8a4e9d",
   "metadata": {},
   "source": [
    "<img src=\"https://sebastianraschka.com/images/LLMs-from-scratch-images/ch04_compressed/18.webp\" width=\"1000px\">"
   ]
  },
  {
   "cell_type": "markdown",
   "id": "a369fab5",
   "metadata": {},
   "source": [
    "* Кіріс мысалын дайындап алайық:\n",
    "***\n",
    "* Давайте подготовим входной пример:"
   ]
  },
  {
   "cell_type": "code",
   "execution_count": 35,
   "id": "1a9d91d2",
   "metadata": {},
   "outputs": [
    {
     "name": "stdout",
     "output_type": "stream",
     "text": [
      "encoded: [15496, 11, 314, 716]\n",
      "encoded_tensor.shape: torch.Size([1, 4])\n"
     ]
    }
   ],
   "source": [
    "start_context = \"Hello, I am\"\n",
    "\n",
    "encoded = tokenizer.encode(start_context)\n",
    "print(\"encoded:\", encoded)\n",
    "\n",
    "encoded_tensor = torch.tensor(encoded).unsqueeze(0)\n",
    "print(\"encoded_tensor.shape:\", encoded_tensor.shape)"
   ]
  },
  {
   "cell_type": "code",
   "execution_count": 36,
   "id": "7e1d3336",
   "metadata": {},
   "outputs": [
    {
     "name": "stdout",
     "output_type": "stream",
     "text": [
      "Output: tensor([[15496,    11,   314,   716, 27018, 24086, 47843, 30961, 42348,  7267]])\n",
      "Output length: 10\n"
     ]
    }
   ],
   "source": [
    "model.eval() # disable dropout\n",
    "\n",
    "out = generate_text_simple(\n",
    "    model=model,\n",
    "    idx=encoded_tensor, \n",
    "    max_new_tokens=6, \n",
    "    context_size=GPT_CONFIG_124M[\"context_length\"]\n",
    ")\n",
    "\n",
    "print(\"Output:\", out)\n",
    "print(\"Output length:\", len(out[0]))"
   ]
  },
  {
   "cell_type": "code",
   "execution_count": 37,
   "id": "415a00a0",
   "metadata": {},
   "outputs": [
    {
     "name": "stdout",
     "output_type": "stream",
     "text": [
      "Hello, I am Featureiman Byeswickattribute argue\n"
     ]
    }
   ],
   "source": [
    "decoded_text = tokenizer.decode(out.squeeze(0).tolist())\n",
    "print(decoded_text)"
   ]
  },
  {
   "cell_type": "markdown",
   "id": "e920c024",
   "metadata": {},
   "source": [
    "* Ескерту: модель жаттықтырылмаған; сондықтан жоғарыдағы шығыс мәтіндері кездейсоқ болып келеді.\n",
    "* Біз модельді келесі тарауда жаттықтырамыз.\n",
    "***\n",
    "* Обратите внимание, что модель не обучена; следовательно, приведенные выше выходные тексты случайны.\n",
    "* Мы обучим модель в следующей главе."
   ]
  }
 ],
 "metadata": {
  "kernelspec": {
   "display_name": "llm",
   "language": "python",
   "name": "python3"
  },
  "language_info": {
   "codemirror_mode": {
    "name": "ipython",
    "version": 3
   },
   "file_extension": ".py",
   "mimetype": "text/x-python",
   "name": "python",
   "nbconvert_exporter": "python",
   "pygments_lexer": "ipython3",
   "version": "3.11.11"
  }
 },
 "nbformat": 4,
 "nbformat_minor": 5
}
